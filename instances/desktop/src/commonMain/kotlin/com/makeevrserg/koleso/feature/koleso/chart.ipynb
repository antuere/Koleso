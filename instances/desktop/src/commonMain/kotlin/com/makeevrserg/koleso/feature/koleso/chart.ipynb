{
 "cells": [
  {
   "cell_type": "code",
   "execution_count": 136,
   "metadata": {
    "collapsed": true,
    "ExecuteTime": {
     "end_time": "2024-01-02T19:03:50.691640800Z",
     "start_time": "2024-01-02T19:03:34.508467800Z"
    }
   },
   "outputs": [],
   "source": [
    "%use kandy"
   ]
  },
  {
   "cell_type": "code",
   "execution_count": 137,
   "outputs": [],
   "source": [
    "fun getRotationByPower(power: Float) = (kotlin.math.cosh(power) - 1)\n"
   ],
   "metadata": {
    "collapsed": false,
    "ExecuteTime": {
     "end_time": "2024-01-02T19:03:50.756655800Z",
     "start_time": "2024-01-02T19:03:50.691329400Z"
    }
   }
  },
  {
   "cell_type": "code",
   "execution_count": 138,
   "outputs": [],
   "source": [
    "val power = (0..100).map { it/100f }\n",
    "val prices = power.map { getRotationByPower(it) }"
   ],
   "metadata": {
    "collapsed": false,
    "ExecuteTime": {
     "end_time": "2024-01-02T19:03:50.843397900Z",
     "start_time": "2024-01-02T19:03:50.737648200Z"
    }
   }
  },
  {
   "cell_type": "code",
   "execution_count": 139,
   "outputs": [
    {
     "data": {
      "text/html": "            <iframe src='about:blank' style='border:none !important;' width='700' height='450' srcdoc=\"&lt;html lang=&quot;en&quot;>\n   &lt;head>\n       &lt;style> html, body { margin: 0; overflow: hidden; } &lt;/style>\n       &lt;script type=&quot;text/javascript&quot; data-lets-plot-script=&quot;library&quot; src=&quot;https://cdn.jsdelivr.net/gh/JetBrains/lets-plot@v4.0.1/js-package/distr/lets-plot.min.js&quot;>&lt;/script>\n   &lt;/head>\n   &lt;body>\n          &lt;div id=&quot;T08nfE&quot;>&lt;/div>\n   &lt;script type=&quot;text/javascript&quot; data-lets-plot-script=&quot;plot&quot;>\n       var plotSpec={\n&quot;ggtitle&quot;:{\n&quot;text&quot;:&quot;Power to add radian chart&quot;\n},\n&quot;mapping&quot;:{\n},\n&quot;data&quot;:{\n&quot;power&quot;:[0.0,0.009999999776482582,0.019999999552965164,0.029999999329447746,0.03999999910593033,0.05000000074505806,0.05999999865889549,0.07000000029802322,0.07999999821186066,0.09000000357627869,0.10000000149011612,0.10999999940395355,0.11999999731779099,0.12999999523162842,0.14000000059604645,0.15000000596046448,0.1599999964237213,0.17000000178813934,0.18000000715255737,0.1899999976158142,0.20000000298023224,0.20999999344348907,0.2199999988079071,0.23000000417232513,0.23999999463558197,0.25,0.25999999046325684,0.27000001072883606,0.2800000011920929,0.28999999165534973,0.30000001192092896,0.3100000023841858,0.3199999928474426,0.33000001311302185,0.3400000035762787,0.3499999940395355,0.36000001430511475,0.3700000047683716,0.3799999952316284,0.38999998569488525,0.4000000059604645,0.4099999964237213,0.41999998688697815,0.4300000071525574,0.4399999976158142,0.44999998807907104,0.46000000834465027,0.4699999988079071,0.47999998927116394,0.49000000953674316,0.5,0.5099999904632568,0.5199999809265137,0.5299999713897705,0.5400000214576721,0.550000011920929,0.5600000023841858,0.5699999928474426,0.5799999833106995,0.5899999737739563,0.6000000238418579,0.6100000143051147,0.6200000047683716,0.6299999952316284,0.6399999856948853,0.6499999761581421,0.6600000262260437,0.6700000166893005,0.6800000071525574,0.6899999976158142,0.699999988079071,0.7099999785423279,0.7200000286102295,0.7300000190734863,0.7400000095367432,0.75,0.7599999904632568,0.7699999809265137,0.7799999713897705,0.7900000214576721,0.800000011920929,0.8100000023841858,0.8199999928474426,0.8299999833106995,0.8399999737739563,0.8500000238418579,0.8600000143051147,0.8700000047683716,0.8799999952316284,0.8899999856948853,0.8999999761581421,0.9100000262260437,0.9200000166893005,0.9300000071525574,0.9399999976158142,0.949999988079071,0.9599999785423279,0.9700000286102295,0.9800000190734863,0.9900000095367432,1.0],\n&quot;prices&quot;:[0.0,4.9948692321777344E-5,2.0003318786621094E-4,4.500150680541992E-4,8.001327514648438E-4,0.0012502670288085938,0.001800537109375,0.0024509429931640625,0.003201723098754883,0.00405275821685791,0.005004167556762695,0.006056070327758789,0.007208585739135742,0.008461952209472656,0.00981605052947998,0.011271119117736816,0.012827277183532715,0.014484882354736328,0.016243815422058105,0.01810431480407715,0.02006673812866211,0.02213120460510254,0.024297714233398438,0.02656686305999756,0.02893853187561035,0.03141307830810547,0.03399085998535156,0.036671996116638184,0.039456725120544434,0.042345523834228516,0.04533851146697998,0.04843604564666748,0.05163836479187012,0.054945945739746094,0.05835890769958496,0.06187784671783447,0.06550288200378418,0.06923449039459229,0.07307302951812744,0.0770188570022583,0.08107233047485352,0.08523404598236084,0.08950412273406982,0.09388327598571777,0.09837186336517334,0.10297012329101562,0.10767877101898193,0.11249828338623047,0.11742889881134033,0.12247133255004883,0.1276259422302246,0.13289332389831543,0.13827407360076904,0.14376866817474365,0.14937758445739746,0.15510141849517822,0.1609407663345337,0.16689622402191162,0.17296838760375977,0.17915785312652588,0.18546521663665771,0.19189119338989258,0.19843626022338867,0.2051011323928833,0.21188664436340332,0.21879327297210693,0.225821852684021,0.23297297954559326,0.24024736881256104,0.24764585494995117,0.2551690340042114,0.26281774044036865,0.2705928087234497,0.27849483489990234,0.28652477264404297,0.2946833372116089,0.30297136306762695,0.311389684677124,0.31993913650512695,0.32862067222595215,0.3374350070953369,0.3463829755783081,0.35546576976776123,0.36468398571014404,0.3740386962890625,0.383530855178833,0.393161416053772,0.40293121337890625,0.4128413200378418,0.422892689704895,0.4330863952636719,0.44342339038848877,0.45390474796295166,0.46453142166137695,0.47530460357666016,0.4862253665924072,0.49729466438293457,0.5085138082504272,0.5198836326599121,0.5314055681228638,0.5430806875228882]\n},\n&quot;ggsize&quot;:{\n&quot;width&quot;:700.0,\n&quot;height&quot;:450.0\n},\n&quot;kind&quot;:&quot;plot&quot;,\n&quot;scales&quot;:[{\n&quot;aesthetic&quot;:&quot;x&quot;,\n&quot;limits&quot;:[null,null]\n},{\n&quot;aesthetic&quot;:&quot;y&quot;,\n&quot;limits&quot;:[null,null]\n}],\n&quot;layers&quot;:[{\n&quot;mapping&quot;:{\n&quot;x&quot;:&quot;power&quot;,\n&quot;y&quot;:&quot;prices&quot;\n},\n&quot;stat&quot;:&quot;identity&quot;,\n&quot;size&quot;:1.0,\n&quot;color&quot;:&quot;#6e5596&quot;,\n&quot;linetype&quot;:&quot;solid&quot;,\n&quot;sampling&quot;:&quot;none&quot;,\n&quot;position&quot;:&quot;identity&quot;,\n&quot;geom&quot;:&quot;line&quot;,\n&quot;data&quot;:{\n}\n}]\n};\n       var plotContainer = document.getElementById(&quot;T08nfE&quot;);\n       LetsPlot.buildPlotFromProcessedSpecs(plotSpec, -1, -1, plotContainer);\n   &lt;/script>\n   &lt;/body>\n&lt;/html>\"></iframe>            \n        <svg id=a9437874-f46b-4c26-87ab-43589792965b xmlns=\"http://www.w3.org/2000/svg\" xmlns:xlink=\"http://www.w3.org/1999/xlink\" class=\"plt-container\" width=\"700.0\" height=\"450.0\">\n  <style type=\"text/css\">\n  .plt-container {\n   font-family: Lucida Grande, sans-serif;\n   user-select: none;\n   -webkit-user-select: none;\n   -moz-user-select: none;\n   -ms-user-select: none;\n}\ntext {\n   text-rendering: optimizeLegibility;\n}\n#pkJzPhs .plot-title {\n   fill: #474747;\n   font-family: Lucida Grande, sans-serif;\n   font-size: 16.0px;\n   font-weight: normal;\n   font-style: normal;   \n}\n#pkJzPhs .plot-subtitle {\n   fill: #474747;\n   font-family: Lucida Grande, sans-serif;\n   font-size: 15.0px;\n   font-weight: normal;\n   font-style: normal;   \n}\n#pkJzPhs .plot-caption {\n   fill: #474747;\n   font-family: Lucida Grande, sans-serif;\n   font-size: 13.0px;\n   font-weight: normal;\n   font-style: normal;   \n}\n#pkJzPhs .legend-title {\n   fill: #474747;\n   font-family: Lucida Grande, sans-serif;\n   font-size: 15.0px;\n   font-weight: normal;\n   font-style: normal;   \n}\n#pkJzPhs .legend-item {\n   fill: #474747;\n   font-family: Lucida Grande, sans-serif;\n   font-size: 13.0px;\n   font-weight: normal;\n   font-style: normal;   \n}\n#pkJzPhs .axis-title-x {\n   fill: #474747;\n   font-family: Lucida Grande, sans-serif;\n   font-size: 15.0px;\n   font-weight: normal;\n   font-style: normal;   \n}\n#pkJzPhs .axis-text-x {\n   fill: #474747;\n   font-family: Lucida Grande, sans-serif;\n   font-size: 13.0px;\n   font-weight: normal;\n   font-style: normal;   \n}\n#dptkrdb .axis-tooltip-text-x {\n   fill: #ffffff;\n   font-family: Lucida Grande, sans-serif;\n   font-size: 13.0px;\n   font-weight: normal;\n   font-style: normal;   \n}\n#pkJzPhs .axis-title-y {\n   fill: #474747;\n   font-family: Lucida Grande, sans-serif;\n   font-size: 15.0px;\n   font-weight: normal;\n   font-style: normal;   \n}\n#pkJzPhs .axis-text-y {\n   fill: #474747;\n   font-family: Lucida Grande, sans-serif;\n   font-size: 13.0px;\n   font-weight: normal;\n   font-style: normal;   \n}\n#dptkrdb .axis-tooltip-text-y {\n   fill: #ffffff;\n   font-family: Lucida Grande, sans-serif;\n   font-size: 13.0px;\n   font-weight: normal;\n   font-style: normal;   \n}\n#pkJzPhs .facet-strip-text-x {\n   fill: #474747;\n   font-family: Lucida Grande, sans-serif;\n   font-size: 13.0px;\n   font-weight: normal;\n   font-style: normal;   \n}\n#pkJzPhs .facet-strip-text-y {\n   fill: #474747;\n   font-family: Lucida Grande, sans-serif;\n   font-size: 13.0px;\n   font-weight: normal;\n   font-style: normal;   \n}\n#dptkrdb .tooltip-text {\n   fill: #474747;\n   font-family: Lucida Grande, sans-serif;\n   font-size: 13.0px;\n   font-weight: normal;\n   font-style: normal;   \n}\n#dptkrdb .tooltip-title {\n   fill: #474747;\n   font-family: Lucida Grande, sans-serif;\n   font-size: 13.0px;\n   font-weight: bold;\n   font-style: normal;   \n}\n#dptkrdb .tooltip-label {\n   fill: #474747;\n   font-family: Lucida Grande, sans-serif;\n   font-size: 13.0px;\n   font-weight: bold;\n   font-style: normal;   \n}\n\n  </style>\n  <g id=\"pkJzPhs\">\n    <path fill-rule=\"evenodd\" fill=\"rgb(255,255,255)\" fill-opacity=\"1.0\" d=\"M0.0 0.0 L0.0 450.0 L700.0 450.0 L700.0 0.0 Z\">\n    </path>\n    <g transform=\"translate(23.0 34.0 ) \">\n      <g transform=\"translate(27.034701220281416 370.0 ) \">\n        <line x1=\"29.089331762714483\" y1=\"-0.0\" x2=\"29.089331762714483\" y2=\"-370.0\" stroke=\"rgb(233,233,233)\" stroke-opacity=\"1.0\" stroke-width=\"1.0\">\n        </line>\n        <line x1=\"87.26799528814345\" y1=\"-0.0\" x2=\"87.26799528814345\" y2=\"-370.0\" stroke=\"rgb(233,233,233)\" stroke-opacity=\"1.0\" stroke-width=\"1.0\">\n        </line>\n        <line x1=\"145.4466588135724\" y1=\"-0.0\" x2=\"145.4466588135724\" y2=\"-370.0\" stroke=\"rgb(233,233,233)\" stroke-opacity=\"1.0\" stroke-width=\"1.0\">\n        </line>\n        <line x1=\"203.62532233900143\" y1=\"-0.0\" x2=\"203.62532233900143\" y2=\"-370.0\" stroke=\"rgb(233,233,233)\" stroke-opacity=\"1.0\" stroke-width=\"1.0\">\n        </line>\n        <line x1=\"261.80398586443033\" y1=\"-0.0\" x2=\"261.80398586443033\" y2=\"-370.0\" stroke=\"rgb(233,233,233)\" stroke-opacity=\"1.0\" stroke-width=\"1.0\">\n        </line>\n        <line x1=\"319.9826493898593\" y1=\"-0.0\" x2=\"319.9826493898593\" y2=\"-370.0\" stroke=\"rgb(233,233,233)\" stroke-opacity=\"1.0\" stroke-width=\"1.0\">\n        </line>\n        <line x1=\"378.16131291528825\" y1=\"-0.0\" x2=\"378.16131291528825\" y2=\"-370.0\" stroke=\"rgb(233,233,233)\" stroke-opacity=\"1.0\" stroke-width=\"1.0\">\n        </line>\n        <line x1=\"436.33997644071724\" y1=\"-0.0\" x2=\"436.33997644071724\" y2=\"-370.0\" stroke=\"rgb(233,233,233)\" stroke-opacity=\"1.0\" stroke-width=\"1.0\">\n        </line>\n        <line x1=\"494.51863996614617\" y1=\"-0.0\" x2=\"494.51863996614617\" y2=\"-370.0\" stroke=\"rgb(233,233,233)\" stroke-opacity=\"1.0\" stroke-width=\"1.0\">\n        </line>\n        <line x1=\"552.6973034915751\" y1=\"-0.0\" x2=\"552.6973034915751\" y2=\"-370.0\" stroke=\"rgb(233,233,233)\" stroke-opacity=\"1.0\" stroke-width=\"1.0\">\n        </line>\n        <line x1=\"610.875967017004\" y1=\"-0.0\" x2=\"610.875967017004\" y2=\"-370.0\" stroke=\"rgb(233,233,233)\" stroke-opacity=\"1.0\" stroke-width=\"1.0\">\n        </line>\n        <g transform=\"translate(29.089331762714483 0.0 ) \">\n          <line stroke-width=\"1.0\" stroke=\"rgb(71,71,71)\" stroke-opacity=\"1.0\" x2=\"0.0\" y2=\"4.0\">\n          </line>\n          <g transform=\"translate(0.0 7.0 ) \">\n            <text class=\"axis-text-x\" text-anchor=\"middle\" dy=\"0.7em\">\n            0.0\n            </text>\n          </g>\n        </g>\n        <g transform=\"translate(87.26799528814345 0.0 ) \">\n          <line stroke-width=\"1.0\" stroke=\"rgb(71,71,71)\" stroke-opacity=\"1.0\" x2=\"0.0\" y2=\"4.0\">\n          </line>\n          <g transform=\"translate(0.0 7.0 ) \">\n            <text class=\"axis-text-x\" text-anchor=\"middle\" dy=\"0.7em\">\n            0.1\n            </text>\n          </g>\n        </g>\n        <g transform=\"translate(145.4466588135724 0.0 ) \">\n          <line stroke-width=\"1.0\" stroke=\"rgb(71,71,71)\" stroke-opacity=\"1.0\" x2=\"0.0\" y2=\"4.0\">\n          </line>\n          <g transform=\"translate(0.0 7.0 ) \">\n            <text class=\"axis-text-x\" text-anchor=\"middle\" dy=\"0.7em\">\n            0.2\n            </text>\n          </g>\n        </g>\n        <g transform=\"translate(203.62532233900143 0.0 ) \">\n          <line stroke-width=\"1.0\" stroke=\"rgb(71,71,71)\" stroke-opacity=\"1.0\" x2=\"0.0\" y2=\"4.0\">\n          </line>\n          <g transform=\"translate(0.0 7.0 ) \">\n            <text class=\"axis-text-x\" text-anchor=\"middle\" dy=\"0.7em\">\n            0.3\n            </text>\n          </g>\n        </g>\n        <g transform=\"translate(261.80398586443033 0.0 ) \">\n          <line stroke-width=\"1.0\" stroke=\"rgb(71,71,71)\" stroke-opacity=\"1.0\" x2=\"0.0\" y2=\"4.0\">\n          </line>\n          <g transform=\"translate(0.0 7.0 ) \">\n            <text class=\"axis-text-x\" text-anchor=\"middle\" dy=\"0.7em\">\n            0.4\n            </text>\n          </g>\n        </g>\n        <g transform=\"translate(319.9826493898593 0.0 ) \">\n          <line stroke-width=\"1.0\" stroke=\"rgb(71,71,71)\" stroke-opacity=\"1.0\" x2=\"0.0\" y2=\"4.0\">\n          </line>\n          <g transform=\"translate(0.0 7.0 ) \">\n            <text class=\"axis-text-x\" text-anchor=\"middle\" dy=\"0.7em\">\n            0.5\n            </text>\n          </g>\n        </g>\n        <g transform=\"translate(378.16131291528825 0.0 ) \">\n          <line stroke-width=\"1.0\" stroke=\"rgb(71,71,71)\" stroke-opacity=\"1.0\" x2=\"0.0\" y2=\"4.0\">\n          </line>\n          <g transform=\"translate(0.0 7.0 ) \">\n            <text class=\"axis-text-x\" text-anchor=\"middle\" dy=\"0.7em\">\n            0.6\n            </text>\n          </g>\n        </g>\n        <g transform=\"translate(436.33997644071724 0.0 ) \">\n          <line stroke-width=\"1.0\" stroke=\"rgb(71,71,71)\" stroke-opacity=\"1.0\" x2=\"0.0\" y2=\"4.0\">\n          </line>\n          <g transform=\"translate(0.0 7.0 ) \">\n            <text class=\"axis-text-x\" text-anchor=\"middle\" dy=\"0.7em\">\n            0.7\n            </text>\n          </g>\n        </g>\n        <g transform=\"translate(494.51863996614617 0.0 ) \">\n          <line stroke-width=\"1.0\" stroke=\"rgb(71,71,71)\" stroke-opacity=\"1.0\" x2=\"0.0\" y2=\"4.0\">\n          </line>\n          <g transform=\"translate(0.0 7.0 ) \">\n            <text class=\"axis-text-x\" text-anchor=\"middle\" dy=\"0.7em\">\n            0.8\n            </text>\n          </g>\n        </g>\n        <g transform=\"translate(552.6973034915751 0.0 ) \">\n          <line stroke-width=\"1.0\" stroke=\"rgb(71,71,71)\" stroke-opacity=\"1.0\" x2=\"0.0\" y2=\"4.0\">\n          </line>\n          <g transform=\"translate(0.0 7.0 ) \">\n            <text class=\"axis-text-x\" text-anchor=\"middle\" dy=\"0.7em\">\n            0.9\n            </text>\n          </g>\n        </g>\n        <g transform=\"translate(610.875967017004 0.0 ) \">\n          <line stroke-width=\"1.0\" stroke=\"rgb(71,71,71)\" stroke-opacity=\"1.0\" x2=\"0.0\" y2=\"4.0\">\n          </line>\n          <g transform=\"translate(0.0 7.0 ) \">\n            <text class=\"axis-text-x\" text-anchor=\"middle\" dy=\"0.7em\">\n            1.0\n            </text>\n          </g>\n        </g>\n        <line x1=\"0.0\" y1=\"0.0\" x2=\"639.9652987797186\" y2=\"0.0\" stroke-width=\"1.0\" stroke=\"rgb(71,71,71)\" stroke-opacity=\"1.0\">\n        </line>\n      </g>\n      <g transform=\"translate(27.034701220281416 0.0 ) \">\n        <line x1=\"0.0\" y1=\"353.1818181818182\" x2=\"639.9652987797186\" y2=\"353.1818181818182\" stroke=\"rgb(233,233,233)\" stroke-opacity=\"1.0\" stroke-width=\"1.0\">\n        </line>\n        <line x1=\"0.0\" y1=\"291.245600582576\" x2=\"639.9652987797186\" y2=\"291.245600582576\" stroke=\"rgb(233,233,233)\" stroke-opacity=\"1.0\" stroke-width=\"1.0\">\n        </line>\n        <line x1=\"0.0\" y1=\"229.30938298333388\" x2=\"639.9652987797186\" y2=\"229.30938298333388\" stroke=\"rgb(233,233,233)\" stroke-opacity=\"1.0\" stroke-width=\"1.0\">\n        </line>\n        <line x1=\"0.0\" y1=\"167.37316538409166\" x2=\"639.9652987797186\" y2=\"167.37316538409166\" stroke=\"rgb(233,233,233)\" stroke-opacity=\"1.0\" stroke-width=\"1.0\">\n        </line>\n        <line x1=\"0.0\" y1=\"105.43694778484954\" x2=\"639.9652987797186\" y2=\"105.43694778484954\" stroke=\"rgb(233,233,233)\" stroke-opacity=\"1.0\" stroke-width=\"1.0\">\n        </line>\n        <line x1=\"0.0\" y1=\"43.50073018560738\" x2=\"639.9652987797186\" y2=\"43.50073018560738\" stroke=\"rgb(233,233,233)\" stroke-opacity=\"1.0\" stroke-width=\"1.0\">\n        </line>\n        <g transform=\"translate(0.0 353.1818181818182 ) \">\n          <g transform=\"translate(-3.0 0.0 ) \">\n            <text class=\"axis-text-y\" text-anchor=\"end\" dy=\"0.35em\">\n            0.0\n            </text>\n          </g>\n        </g>\n        <g transform=\"translate(0.0 291.245600582576 ) \">\n          <g transform=\"translate(-3.0 0.0 ) \">\n            <text class=\"axis-text-y\" text-anchor=\"end\" dy=\"0.35em\">\n            0.1\n            </text>\n          </g>\n        </g>\n        <g transform=\"translate(0.0 229.30938298333388 ) \">\n          <g transform=\"translate(-3.0 0.0 ) \">\n            <text class=\"axis-text-y\" text-anchor=\"end\" dy=\"0.35em\">\n            0.2\n            </text>\n          </g>\n        </g>\n        <g transform=\"translate(0.0 167.37316538409166 ) \">\n          <g transform=\"translate(-3.0 0.0 ) \">\n            <text class=\"axis-text-y\" text-anchor=\"end\" dy=\"0.35em\">\n            0.3\n            </text>\n          </g>\n        </g>\n        <g transform=\"translate(0.0 105.43694778484954 ) \">\n          <g transform=\"translate(-3.0 0.0 ) \">\n            <text class=\"axis-text-y\" text-anchor=\"end\" dy=\"0.35em\">\n            0.4\n            </text>\n          </g>\n        </g>\n        <g transform=\"translate(0.0 43.50073018560738 ) \">\n          <g transform=\"translate(-3.0 0.0 ) \">\n            <text class=\"axis-text-y\" text-anchor=\"end\" dy=\"0.35em\">\n            0.5\n            </text>\n          </g>\n        </g>\n      </g>\n      <g transform=\"translate(27.034701220281416 0.0 ) \" clip-path=\"url(#c7x2xMI)\" clip-bounds-jfx=\"[rect (0.0, 0.0), (639.9652987797186, 370.0)]\">\n        <defs>\n          <clipPath id=\"c7x2xMI\">\n            <rect x=\"0.0\" y=\"0.0\" width=\"639.9652987797186\" height=\"370.0\">\n            </rect>\n          </clipPath>\n        </defs>\n        <g>\n          <path d=\"M29.089331762714483 353.1818181818182 L29.089331762714483 353.1818181818182 L34.907197985217934 353.1508818510538 L40.72506420772138 353.0579251913107 L46.54293043022483 352.9030958700388 L52.36079665272828 352.68624621978813 L58.178663958893786 352.4074500742837 L63.99652909773518 352.0666335998006 L69.81439640390069 351.6637967963387 L75.63226154274209 351.19879199644816 L81.4501310162317 350.6716930338539 L87.26799615507309 350.08242607483095 L93.08586129391449 349.43091728565435 L98.90372643275587 348.7170928325991 L104.72159157159727 347.94080504821534 L110.53946104508688 347.1021277662279 L116.3573305185765 346.20091331918695 L122.17519132276968 345.23708787336744 L127.99306079625929 344.2104299275945 L133.81093026974892 343.121013315593 L139.6287910739421 341.96869036991313 L145.4466605474317 340.7532395893799 L151.2645213516249 339.4745871402684 L157.0823908251145 338.1327330225785 L162.9002602986041 336.7273080676854 L168.71812110279728 335.25838610931413 L174.5359905762869 333.7257456462896 L180.35385138048008 332.12916517743713 L186.17172952326612 330.4685708690315 L191.9895903274593 328.74381505362294 L197.8074511316525 326.9546023963115 L203.62532927443854 325.1008590633721 L209.44319007863172 323.18236355362995 L215.2610508828249 321.19896819963503 L221.07892902561093 319.15037766648754 L226.8967898298041 317.03651812046235 L232.7146506339973 314.8570203929347 L238.53252877678335 312.61181065017956 L244.35038958097653 310.3005935572971 L250.1682503851697 307.9231476131123 L255.98611118936287 305.47925131645036 L261.8039893321489 302.9686831661362 L267.6218501363421 300.39107399354504 L273.4397109405353 297.74634996495195 L279.2575890833213 295.03406807800695 L285.0754498875145 292.25400683153526 L290.8933106917077 289.4060185580868 L296.7111888344937 286.48966025531183 L302.5290496386869 283.5046365883104 L308.3469104428801 280.45079988963255 L314.16478858566614 277.32770715692845 L319.9826493898593 274.13513688902316 L325.8005101940525 270.8727199172919 L331.61837099824567 267.5400870731096 L337.43623180243884 264.13694302157654 L343.25412728381775 260.66299242779274 L349.0719880880109 257.11786612313335 L354.8898488922041 253.50119493897353 L360.70770969639733 249.81260970668833 L366.5255705005905 246.05174125765294 L372.3434313047837 242.21822042324243 L378.1613267861626 238.31167803483197 L383.97918759035576 234.33167109007172 L389.79704839454894 230.27790425406175 L395.6149091987421 226.14993452445225 L401.4327700029353 221.94724506516832 L407.25063080712846 217.66954054131014 L413.06852628850737 213.31630411680285 L418.88638709270055 208.8871666230216 L424.7042478968937 204.38168505761652 L430.52210870108695 199.79934258451283 L436.3399695052801 195.13977003508558 L442.1578303094733 190.40245057325998 L447.9757257908522 185.58686736296124 L453.7935865950454 180.69265123556448 L459.61144739923856 175.71921152126987 L465.42930820343173 170.66610521772756 L471.2471690076249 165.53281548886275 L477.0650298118181 160.31882549860063 L482.88289061601125 155.02361841086633 L488.70078609739016 149.6466035558601 L494.51864690158334 144.1873379312321 L500.3365077057765 138.64530470090745 L506.15436850996974 133.01976552763642 L511.9722293141629 127.31035124279418 L517.790090118356 121.51639734285592 L523.607985599735 115.63731315802184 L529.4258464039282 109.67250801849218 L535.2437072081214 103.62146508819208 L541.0615680123145 97.48351986359677 L546.8794288165077 91.25808167490646 L552.6972896207009 84.94448601859636 L558.5151851020797 78.54214222486672 L564.3330459062729 72.05038579019276 L570.1509067104661 65.46862604477462 L575.9687675146592 58.79612465136262 L581.7866283188524 52.03221710643197 L587.6044891230456 45.17631274018282 L593.4223846044246 38.227599381640516 L599.2402454086177 31.185560194730215 L605.0581062128109 24.04930917475224 L610.8759670170041 16.818181818181813 \" fill=\"none\" stroke-width=\"2.2\" stroke=\"rgb(110,85,150)\" stroke-opacity=\"1.0\">\n          </path>\n        </g>\n      </g>\n    </g>\n    <g transform=\"translate(50.03470122028142 15.2 ) \">\n      <text class=\"plot-title\" y=\"0.0\">\n      Power to add radian chart\n      </text>\n    </g>\n    <g transform=\"translate(14.5 219.0 ) rotate(-90.0 ) \">\n      <text class=\"axis-title-y\" y=\"0.0\" text-anchor=\"middle\">\n      prices\n      </text>\n    </g>\n    <g transform=\"translate(370.01735061014074 441.5 ) \">\n      <text class=\"axis-title-x\" y=\"0.0\" text-anchor=\"middle\">\n      power\n      </text>\n    </g>\n    <path fill=\"rgb(0,0,0)\" fill-opacity=\"0.0\" stroke=\"rgb(71,71,71)\" stroke-opacity=\"1.0\" stroke-width=\"0.0\" d=\"M0.0 0.0 L0.0 450.0 L700.0 450.0 L700.0 0.0 Z\">\n    </path>\n  </g>\n  <g id=\"dptkrdb\">\n  </g>\n</svg>\n        <script>document.getElementById(\"a9437874-f46b-4c26-87ab-43589792965b\").style.display = \"none\";</script>",
      "application/plot+json": {
       "output_type": "lets_plot_spec",
       "output": {
        "ggtitle": {
         "text": "Power to add radian chart"
        },
        "mapping": {},
        "data": {
         "power": [
          0.0,
          0.01,
          0.02,
          0.03,
          0.04,
          0.05,
          0.06,
          0.07,
          0.08,
          0.09,
          0.1,
          0.11,
          0.12,
          0.13,
          0.14,
          0.15,
          0.16,
          0.17,
          0.18,
          0.19,
          0.2,
          0.21,
          0.22,
          0.23,
          0.24,
          0.25,
          0.26,
          0.27,
          0.28,
          0.29,
          0.3,
          0.31,
          0.32,
          0.33,
          0.34,
          0.35,
          0.36,
          0.37,
          0.38,
          0.39,
          0.4,
          0.41,
          0.42,
          0.43,
          0.44,
          0.45,
          0.46,
          0.47,
          0.48,
          0.49,
          0.5,
          0.51,
          0.52,
          0.53,
          0.54,
          0.55,
          0.56,
          0.57,
          0.58,
          0.59,
          0.6,
          0.61,
          0.62,
          0.63,
          0.64,
          0.65,
          0.66,
          0.67,
          0.68,
          0.69,
          0.7,
          0.71,
          0.72,
          0.73,
          0.74,
          0.75,
          0.76,
          0.77,
          0.78,
          0.79,
          0.8,
          0.81,
          0.82,
          0.83,
          0.84,
          0.85,
          0.86,
          0.87,
          0.88,
          0.89,
          0.9,
          0.91,
          0.92,
          0.93,
          0.94,
          0.95,
          0.96,
          0.97,
          0.98,
          0.99,
          1.0
         ],
         "prices": [
          0.0,
          4.9948692E-5,
          2.0003319E-4,
          4.5001507E-4,
          8.0013275E-4,
          0.001250267,
          0.0018005371,
          0.002450943,
          0.003201723,
          0.004052758,
          0.0050041676,
          0.0060560703,
          0.0072085857,
          0.008461952,
          0.0098160505,
          0.011271119,
          0.012827277,
          0.014484882,
          0.016243815,
          0.018104315,
          0.020066738,
          0.022131205,
          0.024297714,
          0.026566863,
          0.028938532,
          0.03141308,
          0.03399086,
          0.036671996,
          0.039456725,
          0.042345524,
          0.04533851,
          0.048436046,
          0.051638365,
          0.054945946,
          0.058358908,
          0.061877847,
          0.06550288,
          0.06923449,
          0.07307303,
          0.07701886,
          0.08107233,
          0.085234046,
          0.08950412,
          0.093883276,
          0.09837186,
          0.10297012,
          0.10767877,
          0.11249828,
          0.1174289,
          0.12247133,
          0.12762594,
          0.13289332,
          0.13827407,
          0.14376867,
          0.14937758,
          0.15510142,
          0.16094077,
          0.16689622,
          0.17296839,
          0.17915785,
          0.18546522,
          0.1918912,
          0.19843626,
          0.20510113,
          0.21188664,
          0.21879327,
          0.22582185,
          0.23297298,
          0.24024737,
          0.24764585,
          0.25516903,
          0.26281774,
          0.2705928,
          0.27849483,
          0.28652477,
          0.29468334,
          0.30297136,
          0.31138968,
          0.31993914,
          0.32862067,
          0.337435,
          0.34638298,
          0.35546577,
          0.364684,
          0.3740387,
          0.38353086,
          0.39316142,
          0.4029312,
          0.41284132,
          0.4228927,
          0.4330864,
          0.4434234,
          0.45390475,
          0.46453142,
          0.4753046,
          0.48622537,
          0.49729466,
          0.5085138,
          0.51988363,
          0.53140557,
          0.5430807
         ]
        },
        "ggsize": {
         "width": 700.0,
         "height": 450.0
        },
        "kind": "plot",
        "scales": [
         {
          "aesthetic": "x",
          "limits": [
           null,
           null
          ]
         },
         {
          "aesthetic": "y",
          "limits": [
           null,
           null
          ]
         }
        ],
        "layers": [
         {
          "mapping": {
           "x": "power",
           "y": "prices"
          },
          "stat": "identity",
          "size": 1.0,
          "color": "#6e5596",
          "linetype": "solid",
          "sampling": "none",
          "position": "identity",
          "geom": "line"
         }
        ]
       },
       "apply_color_scheme": true,
       "swing_enabled": true
      }
     },
     "execution_count": 139,
     "metadata": {},
     "output_type": "execute_result"
    }
   ],
   "source": [
    "val data = mapOf(\n",
    "    \"power\" to power,\n",
    "    \"prices\" to prices,\n",
    ")\n",
    "\n",
    "plot(data) {\n",
    "    x(\"power\")\n",
    "    y(\"prices\")   \n",
    "\n",
    "    line {\n",
    "        width = 1.0\n",
    "        color = Color.hex(\"#6e5596\")\n",
    "        type = LineType.SOLID\n",
    "    }\n",
    "\n",
    "    layout {\n",
    "        title = \"Power to add radian chart\"\n",
    "        size = 700 to 450\n",
    "    }\n",
    "}"
   ],
   "metadata": {
    "collapsed": false,
    "ExecuteTime": {
     "end_time": "2024-01-02T19:03:50.997642200Z",
     "start_time": "2024-01-02T19:03:50.829420200Z"
    }
   }
  },
  {
   "cell_type": "code",
   "execution_count": 140,
   "outputs": [],
   "source": [],
   "metadata": {
    "collapsed": false,
    "ExecuteTime": {
     "end_time": "2024-01-02T19:03:51.000642500Z",
     "start_time": "2024-01-02T19:03:50.993640200Z"
    }
   }
  }
 ],
 "metadata": {
  "kernelspec": {
   "display_name": "Kotlin",
   "language": "kotlin",
   "name": "kotlin"
  },
  "language_info": {
   "name": "kotlin",
   "version": "1.9.0",
   "mimetype": "text/x-kotlin",
   "file_extension": ".kt",
   "pygments_lexer": "kotlin",
   "codemirror_mode": "text/x-kotlin",
   "nbconvert_exporter": ""
  }
 },
 "nbformat": 4,
 "nbformat_minor": 0
}
