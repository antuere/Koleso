{
 "cells": [
  {
   "cell_type": "code",
   "execution_count": 46,
   "metadata": {
    "collapsed": true,
    "ExecuteTime": {
     "end_time": "2024-01-02T18:01:26.094780600Z",
     "start_time": "2024-01-02T18:01:17.980895Z"
    }
   },
   "outputs": [],
   "source": [
    "%use kandy"
   ]
  },
  {
   "cell_type": "code",
   "execution_count": 47,
   "outputs": [],
   "source": [
    "fun sch(x: Float): Float {\n",
    "    return 1 / kotlin.math.cosh(x)\n",
    "}\n",
    "fun f(x: Float) = (kotlin.math.cosh(x)-1)*45"
   ],
   "metadata": {
    "collapsed": false,
    "ExecuteTime": {
     "end_time": "2024-01-02T18:01:26.153536800Z",
     "start_time": "2024-01-02T18:01:26.093780300Z"
    }
   }
  },
  {
   "cell_type": "code",
   "execution_count": 48,
   "outputs": [],
   "source": [
    "val power = (1..100).map { it/100f }\n",
    "val prices = power.map { f(it) }"
   ],
   "metadata": {
    "collapsed": false,
    "ExecuteTime": {
     "end_time": "2024-01-02T18:01:26.230555600Z",
     "start_time": "2024-01-02T18:01:26.152536700Z"
    }
   }
  },
  {
   "cell_type": "code",
   "execution_count": 49,
   "outputs": [
    {
     "data": {
      "text/html": "            <iframe src='about:blank' style='border:none !important;' width='700' height='450' srcdoc=\"&lt;html lang=&quot;en&quot;>\n   &lt;head>\n       &lt;style> html, body { margin: 0; overflow: hidden; } &lt;/style>\n       &lt;script type=&quot;text/javascript&quot; data-lets-plot-script=&quot;library&quot; src=&quot;https://cdn.jsdelivr.net/gh/JetBrains/lets-plot@v4.0.1/js-package/distr/lets-plot.min.js&quot;>&lt;/script>\n   &lt;/head>\n   &lt;body>\n          &lt;div id=&quot;08h7ut&quot;>&lt;/div>\n   &lt;script type=&quot;text/javascript&quot; data-lets-plot-script=&quot;plot&quot;>\n       var plotSpec={\n&quot;ggtitle&quot;:{\n&quot;text&quot;:&quot;Power to add radian chart&quot;\n},\n&quot;mapping&quot;:{\n},\n&quot;data&quot;:{\n&quot;power&quot;:[0.009999999776482582,0.019999999552965164,0.029999999329447746,0.03999999910593033,0.05000000074505806,0.05999999865889549,0.07000000029802322,0.07999999821186066,0.09000000357627869,0.10000000149011612,0.10999999940395355,0.11999999731779099,0.12999999523162842,0.14000000059604645,0.15000000596046448,0.1599999964237213,0.17000000178813934,0.18000000715255737,0.1899999976158142,0.20000000298023224,0.20999999344348907,0.2199999988079071,0.23000000417232513,0.23999999463558197,0.25,0.25999999046325684,0.27000001072883606,0.2800000011920929,0.28999999165534973,0.30000001192092896,0.3100000023841858,0.3199999928474426,0.33000001311302185,0.3400000035762787,0.3499999940395355,0.36000001430511475,0.3700000047683716,0.3799999952316284,0.38999998569488525,0.4000000059604645,0.4099999964237213,0.41999998688697815,0.4300000071525574,0.4399999976158142,0.44999998807907104,0.46000000834465027,0.4699999988079071,0.47999998927116394,0.49000000953674316,0.5,0.5099999904632568,0.5199999809265137,0.5299999713897705,0.5400000214576721,0.550000011920929,0.5600000023841858,0.5699999928474426,0.5799999833106995,0.5899999737739563,0.6000000238418579,0.6100000143051147,0.6200000047683716,0.6299999952316284,0.6399999856948853,0.6499999761581421,0.6600000262260437,0.6700000166893005,0.6800000071525574,0.6899999976158142,0.699999988079071,0.7099999785423279,0.7200000286102295,0.7300000190734863,0.7400000095367432,0.75,0.7599999904632568,0.7699999809265137,0.7799999713897705,0.7900000214576721,0.800000011920929,0.8100000023841858,0.8199999928474426,0.8299999833106995,0.8399999737739563,0.8500000238418579,0.8600000143051147,0.8700000047683716,0.8799999952316284,0.8899999856948853,0.8999999761581421,0.9100000262260437,0.9200000166893005,0.9300000071525574,0.9399999976158142,0.949999988079071,0.9599999785423279,0.9700000286102295,0.9800000190734863,0.9900000095367432,1.0],\n&quot;prices&quot;:[0.004495382308959961,0.018002986907958984,0.04050135612487793,0.07201194763183594,0.11252403259277344,0.16204833984375,0.22058486938476562,0.28815507888793945,0.3647482395172119,0.4503750801086426,0.545046329498291,0.6487727165222168,0.7615756988525391,0.8834445476531982,1.0144007205963135,1.1544549465179443,1.3036394119262695,1.4619433879852295,1.6293883323669434,1.8060064315795898,1.9918084144592285,2.1867942810058594,2.3910176753997803,2.6044678688049316,2.827177047729492,3.0591773986816406,3.3004796504974365,3.551105260848999,3.8110971450805664,4.080466270446777,4.359244346618652,4.6474528312683105,4.945135116577148,5.2523016929626465,5.569005966186523,5.895259380340576,6.231103897094727,6.576572418212891,6.931696891784668,7.296509742736816,7.671064376831055,8.055371284484863,8.449495315551758,8.85346794128418,9.267311096191406,9.691089630126953,10.124845504760742,10.56860065460205,11.022419929504395,11.486334800720215,11.960399627685547,12.444666862487793,12.939180374145508,13.44398307800293,13.959127426147461,14.484668731689453,15.020660400390625,15.567154884338379,16.12420654296875,16.691869735717773,17.270206451416016,17.859264373779297,18.459102630615234,19.06979751586914,19.691394805908203,20.32396697998047,20.967567443847656,21.622262954711914,22.288127899169922,22.965213775634766,23.653596878051758,24.35335350036621,25.06453514099121,25.787229537963867,26.521499633789062,27.26742172241211,28.02507209777832,28.79452133178711,29.57586097717285,30.369150161743164,31.174467086791992,31.991918563842773,32.82155990600586,33.663482666015625,34.51777648925781,35.38452911376953,36.26380920410156,37.15571975708008,38.060340881347656,38.97777557373047,39.908103942871094,40.8514289855957,41.80782699584961,42.77741241455078,43.760284423828125,44.75651931762695,45.76624298095703,46.789527893066406,47.826499938964844,48.877262115478516]\n},\n&quot;ggsize&quot;:{\n&quot;width&quot;:700.0,\n&quot;height&quot;:450.0\n},\n&quot;kind&quot;:&quot;plot&quot;,\n&quot;scales&quot;:[{\n&quot;aesthetic&quot;:&quot;x&quot;,\n&quot;limits&quot;:[null,null]\n},{\n&quot;aesthetic&quot;:&quot;y&quot;,\n&quot;limits&quot;:[null,null]\n}],\n&quot;layers&quot;:[{\n&quot;mapping&quot;:{\n&quot;x&quot;:&quot;power&quot;,\n&quot;y&quot;:&quot;prices&quot;\n},\n&quot;stat&quot;:&quot;identity&quot;,\n&quot;size&quot;:1.0,\n&quot;color&quot;:&quot;#6e5596&quot;,\n&quot;linetype&quot;:&quot;solid&quot;,\n&quot;sampling&quot;:&quot;none&quot;,\n&quot;position&quot;:&quot;identity&quot;,\n&quot;geom&quot;:&quot;line&quot;,\n&quot;data&quot;:{\n}\n}]\n};\n       var plotContainer = document.getElementById(&quot;08h7ut&quot;);\n       LetsPlot.buildPlotFromProcessedSpecs(plotSpec, -1, -1, plotContainer);\n   &lt;/script>\n   &lt;/body>\n&lt;/html>\"></iframe>            \n        <svg id=695fe850-9d93-42ee-abbe-8ee984049365 xmlns=\"http://www.w3.org/2000/svg\" xmlns:xlink=\"http://www.w3.org/1999/xlink\" class=\"plt-container\" width=\"700.0\" height=\"450.0\">\n  <style type=\"text/css\">\n  .plt-container {\n   font-family: Lucida Grande, sans-serif;\n   user-select: none;\n   -webkit-user-select: none;\n   -moz-user-select: none;\n   -ms-user-select: none;\n}\ntext {\n   text-rendering: optimizeLegibility;\n}\n#pJ77mC3 .plot-title {\n   fill: #474747;\n   font-family: Lucida Grande, sans-serif;\n   font-size: 16.0px;\n   font-weight: normal;\n   font-style: normal;   \n}\n#pJ77mC3 .plot-subtitle {\n   fill: #474747;\n   font-family: Lucida Grande, sans-serif;\n   font-size: 15.0px;\n   font-weight: normal;\n   font-style: normal;   \n}\n#pJ77mC3 .plot-caption {\n   fill: #474747;\n   font-family: Lucida Grande, sans-serif;\n   font-size: 13.0px;\n   font-weight: normal;\n   font-style: normal;   \n}\n#pJ77mC3 .legend-title {\n   fill: #474747;\n   font-family: Lucida Grande, sans-serif;\n   font-size: 15.0px;\n   font-weight: normal;\n   font-style: normal;   \n}\n#pJ77mC3 .legend-item {\n   fill: #474747;\n   font-family: Lucida Grande, sans-serif;\n   font-size: 13.0px;\n   font-weight: normal;\n   font-style: normal;   \n}\n#pJ77mC3 .axis-title-x {\n   fill: #474747;\n   font-family: Lucida Grande, sans-serif;\n   font-size: 15.0px;\n   font-weight: normal;\n   font-style: normal;   \n}\n#pJ77mC3 .axis-text-x {\n   fill: #474747;\n   font-family: Lucida Grande, sans-serif;\n   font-size: 13.0px;\n   font-weight: normal;\n   font-style: normal;   \n}\n#d2wy8e8 .axis-tooltip-text-x {\n   fill: #ffffff;\n   font-family: Lucida Grande, sans-serif;\n   font-size: 13.0px;\n   font-weight: normal;\n   font-style: normal;   \n}\n#pJ77mC3 .axis-title-y {\n   fill: #474747;\n   font-family: Lucida Grande, sans-serif;\n   font-size: 15.0px;\n   font-weight: normal;\n   font-style: normal;   \n}\n#pJ77mC3 .axis-text-y {\n   fill: #474747;\n   font-family: Lucida Grande, sans-serif;\n   font-size: 13.0px;\n   font-weight: normal;\n   font-style: normal;   \n}\n#d2wy8e8 .axis-tooltip-text-y {\n   fill: #ffffff;\n   font-family: Lucida Grande, sans-serif;\n   font-size: 13.0px;\n   font-weight: normal;\n   font-style: normal;   \n}\n#pJ77mC3 .facet-strip-text-x {\n   fill: #474747;\n   font-family: Lucida Grande, sans-serif;\n   font-size: 13.0px;\n   font-weight: normal;\n   font-style: normal;   \n}\n#pJ77mC3 .facet-strip-text-y {\n   fill: #474747;\n   font-family: Lucida Grande, sans-serif;\n   font-size: 13.0px;\n   font-weight: normal;\n   font-style: normal;   \n}\n#d2wy8e8 .tooltip-text {\n   fill: #474747;\n   font-family: Lucida Grande, sans-serif;\n   font-size: 13.0px;\n   font-weight: normal;\n   font-style: normal;   \n}\n#d2wy8e8 .tooltip-title {\n   fill: #474747;\n   font-family: Lucida Grande, sans-serif;\n   font-size: 13.0px;\n   font-weight: bold;\n   font-style: normal;   \n}\n#d2wy8e8 .tooltip-label {\n   fill: #474747;\n   font-family: Lucida Grande, sans-serif;\n   font-size: 13.0px;\n   font-weight: bold;\n   font-style: normal;   \n}\n\n  </style>\n  <g id=\"pJ77mC3\">\n    <path fill-rule=\"evenodd\" fill=\"rgb(255,255,255)\" fill-opacity=\"1.0\" d=\"M0.0 0.0 L0.0 450.0 L700.0 450.0 L700.0 0.0 Z\">\n    </path>\n    <g transform=\"translate(23.0 34.0 ) \">\n      <g transform=\"translate(21.961210910936405 370.0 ) \">\n        <line x1=\"23.39672388856911\" y1=\"-0.0\" x2=\"23.39672388856911\" y2=\"-370.0\" stroke=\"rgb(233,233,233)\" stroke-opacity=\"1.0\" stroke-width=\"1.0\">\n        </line>\n        <line x1=\"82.62893591275919\" y1=\"-0.0\" x2=\"82.62893591275919\" y2=\"-370.0\" stroke=\"rgb(233,233,233)\" stroke-opacity=\"1.0\" stroke-width=\"1.0\">\n        </line>\n        <line x1=\"141.86114793694927\" y1=\"-0.0\" x2=\"141.86114793694927\" y2=\"-370.0\" stroke=\"rgb(233,233,233)\" stroke-opacity=\"1.0\" stroke-width=\"1.0\">\n        </line>\n        <line x1=\"201.09335996113936\" y1=\"-0.0\" x2=\"201.09335996113936\" y2=\"-370.0\" stroke=\"rgb(233,233,233)\" stroke-opacity=\"1.0\" stroke-width=\"1.0\">\n        </line>\n        <line x1=\"260.3255719853294\" y1=\"-0.0\" x2=\"260.3255719853294\" y2=\"-370.0\" stroke=\"rgb(233,233,233)\" stroke-opacity=\"1.0\" stroke-width=\"1.0\">\n        </line>\n        <line x1=\"319.5577840095195\" y1=\"-0.0\" x2=\"319.5577840095195\" y2=\"-370.0\" stroke=\"rgb(233,233,233)\" stroke-opacity=\"1.0\" stroke-width=\"1.0\">\n        </line>\n        <line x1=\"378.78999603370954\" y1=\"-0.0\" x2=\"378.78999603370954\" y2=\"-370.0\" stroke=\"rgb(233,233,233)\" stroke-opacity=\"1.0\" stroke-width=\"1.0\">\n        </line>\n        <line x1=\"438.0222080578996\" y1=\"-0.0\" x2=\"438.0222080578996\" y2=\"-370.0\" stroke=\"rgb(233,233,233)\" stroke-opacity=\"1.0\" stroke-width=\"1.0\">\n        </line>\n        <line x1=\"497.25442008208967\" y1=\"-0.0\" x2=\"497.25442008208967\" y2=\"-370.0\" stroke=\"rgb(233,233,233)\" stroke-opacity=\"1.0\" stroke-width=\"1.0\">\n        </line>\n        <line x1=\"556.4866321062797\" y1=\"-0.0\" x2=\"556.4866321062797\" y2=\"-370.0\" stroke=\"rgb(233,233,233)\" stroke-opacity=\"1.0\" stroke-width=\"1.0\">\n        </line>\n        <line x1=\"615.7188441304697\" y1=\"-0.0\" x2=\"615.7188441304697\" y2=\"-370.0\" stroke=\"rgb(233,233,233)\" stroke-opacity=\"1.0\" stroke-width=\"1.0\">\n        </line>\n        <g transform=\"translate(23.39672388856911 0.0 ) \">\n          <line stroke-width=\"1.0\" stroke=\"rgb(71,71,71)\" stroke-opacity=\"1.0\" x2=\"0.0\" y2=\"4.0\">\n          </line>\n          <g transform=\"translate(0.0 7.0 ) \">\n            <text class=\"axis-text-x\" text-anchor=\"middle\" dy=\"0.7em\">\n            0.0\n            </text>\n          </g>\n        </g>\n        <g transform=\"translate(82.62893591275919 0.0 ) \">\n          <line stroke-width=\"1.0\" stroke=\"rgb(71,71,71)\" stroke-opacity=\"1.0\" x2=\"0.0\" y2=\"4.0\">\n          </line>\n          <g transform=\"translate(0.0 7.0 ) \">\n            <text class=\"axis-text-x\" text-anchor=\"middle\" dy=\"0.7em\">\n            0.1\n            </text>\n          </g>\n        </g>\n        <g transform=\"translate(141.86114793694927 0.0 ) \">\n          <line stroke-width=\"1.0\" stroke=\"rgb(71,71,71)\" stroke-opacity=\"1.0\" x2=\"0.0\" y2=\"4.0\">\n          </line>\n          <g transform=\"translate(0.0 7.0 ) \">\n            <text class=\"axis-text-x\" text-anchor=\"middle\" dy=\"0.7em\">\n            0.2\n            </text>\n          </g>\n        </g>\n        <g transform=\"translate(201.09335996113936 0.0 ) \">\n          <line stroke-width=\"1.0\" stroke=\"rgb(71,71,71)\" stroke-opacity=\"1.0\" x2=\"0.0\" y2=\"4.0\">\n          </line>\n          <g transform=\"translate(0.0 7.0 ) \">\n            <text class=\"axis-text-x\" text-anchor=\"middle\" dy=\"0.7em\">\n            0.3\n            </text>\n          </g>\n        </g>\n        <g transform=\"translate(260.3255719853294 0.0 ) \">\n          <line stroke-width=\"1.0\" stroke=\"rgb(71,71,71)\" stroke-opacity=\"1.0\" x2=\"0.0\" y2=\"4.0\">\n          </line>\n          <g transform=\"translate(0.0 7.0 ) \">\n            <text class=\"axis-text-x\" text-anchor=\"middle\" dy=\"0.7em\">\n            0.4\n            </text>\n          </g>\n        </g>\n        <g transform=\"translate(319.5577840095195 0.0 ) \">\n          <line stroke-width=\"1.0\" stroke=\"rgb(71,71,71)\" stroke-opacity=\"1.0\" x2=\"0.0\" y2=\"4.0\">\n          </line>\n          <g transform=\"translate(0.0 7.0 ) \">\n            <text class=\"axis-text-x\" text-anchor=\"middle\" dy=\"0.7em\">\n            0.5\n            </text>\n          </g>\n        </g>\n        <g transform=\"translate(378.78999603370954 0.0 ) \">\n          <line stroke-width=\"1.0\" stroke=\"rgb(71,71,71)\" stroke-opacity=\"1.0\" x2=\"0.0\" y2=\"4.0\">\n          </line>\n          <g transform=\"translate(0.0 7.0 ) \">\n            <text class=\"axis-text-x\" text-anchor=\"middle\" dy=\"0.7em\">\n            0.6\n            </text>\n          </g>\n        </g>\n        <g transform=\"translate(438.0222080578996 0.0 ) \">\n          <line stroke-width=\"1.0\" stroke=\"rgb(71,71,71)\" stroke-opacity=\"1.0\" x2=\"0.0\" y2=\"4.0\">\n          </line>\n          <g transform=\"translate(0.0 7.0 ) \">\n            <text class=\"axis-text-x\" text-anchor=\"middle\" dy=\"0.7em\">\n            0.7\n            </text>\n          </g>\n        </g>\n        <g transform=\"translate(497.25442008208967 0.0 ) \">\n          <line stroke-width=\"1.0\" stroke=\"rgb(71,71,71)\" stroke-opacity=\"1.0\" x2=\"0.0\" y2=\"4.0\">\n          </line>\n          <g transform=\"translate(0.0 7.0 ) \">\n            <text class=\"axis-text-x\" text-anchor=\"middle\" dy=\"0.7em\">\n            0.8\n            </text>\n          </g>\n        </g>\n        <g transform=\"translate(556.4866321062797 0.0 ) \">\n          <line stroke-width=\"1.0\" stroke=\"rgb(71,71,71)\" stroke-opacity=\"1.0\" x2=\"0.0\" y2=\"4.0\">\n          </line>\n          <g transform=\"translate(0.0 7.0 ) \">\n            <text class=\"axis-text-x\" text-anchor=\"middle\" dy=\"0.7em\">\n            0.9\n            </text>\n          </g>\n        </g>\n        <g transform=\"translate(615.7188441304697 0.0 ) \">\n          <line stroke-width=\"1.0\" stroke=\"rgb(71,71,71)\" stroke-opacity=\"1.0\" x2=\"0.0\" y2=\"4.0\">\n          </line>\n          <g transform=\"translate(0.0 7.0 ) \">\n            <text class=\"axis-text-x\" text-anchor=\"middle\" dy=\"0.7em\">\n            1.0\n            </text>\n          </g>\n        </g>\n        <line x1=\"0.0\" y1=\"0.0\" x2=\"645.0387890890636\" y2=\"0.0\" stroke-width=\"1.0\" stroke=\"rgb(71,71,71)\" stroke-opacity=\"1.0\">\n        </line>\n      </g>\n      <g transform=\"translate(21.961210910936405 0.0 ) \">\n        <line x1=\"0.0\" y1=\"353.2127573579966\" x2=\"645.0387890890636\" y2=\"353.2127573579966\" stroke=\"rgb(233,233,233)\" stroke-opacity=\"1.0\" stroke-width=\"1.0\">\n        </line>\n        <line x1=\"0.0\" y1=\"318.8005827618581\" x2=\"645.0387890890636\" y2=\"318.8005827618581\" stroke=\"rgb(233,233,233)\" stroke-opacity=\"1.0\" stroke-width=\"1.0\">\n        </line>\n        <line x1=\"0.0\" y1=\"284.38840816571957\" x2=\"645.0387890890636\" y2=\"284.38840816571957\" stroke=\"rgb(233,233,233)\" stroke-opacity=\"1.0\" stroke-width=\"1.0\">\n        </line>\n        <line x1=\"0.0\" y1=\"249.97623356958104\" x2=\"645.0387890890636\" y2=\"249.97623356958104\" stroke=\"rgb(233,233,233)\" stroke-opacity=\"1.0\" stroke-width=\"1.0\">\n        </line>\n        <line x1=\"0.0\" y1=\"215.56405897344249\" x2=\"645.0387890890636\" y2=\"215.56405897344249\" stroke=\"rgb(233,233,233)\" stroke-opacity=\"1.0\" stroke-width=\"1.0\">\n        </line>\n        <line x1=\"0.0\" y1=\"181.15188437730396\" x2=\"645.0387890890636\" y2=\"181.15188437730396\" stroke=\"rgb(233,233,233)\" stroke-opacity=\"1.0\" stroke-width=\"1.0\">\n        </line>\n        <line x1=\"0.0\" y1=\"146.73970978116543\" x2=\"645.0387890890636\" y2=\"146.73970978116543\" stroke=\"rgb(233,233,233)\" stroke-opacity=\"1.0\" stroke-width=\"1.0\">\n        </line>\n        <line x1=\"0.0\" y1=\"112.3275351850269\" x2=\"645.0387890890636\" y2=\"112.3275351850269\" stroke=\"rgb(233,233,233)\" stroke-opacity=\"1.0\" stroke-width=\"1.0\">\n        </line>\n        <line x1=\"0.0\" y1=\"77.91536058888835\" x2=\"645.0387890890636\" y2=\"77.91536058888835\" stroke=\"rgb(233,233,233)\" stroke-opacity=\"1.0\" stroke-width=\"1.0\">\n        </line>\n        <line x1=\"0.0\" y1=\"43.50318599274982\" x2=\"645.0387890890636\" y2=\"43.50318599274982\" stroke=\"rgb(233,233,233)\" stroke-opacity=\"1.0\" stroke-width=\"1.0\">\n        </line>\n        <line x1=\"0.0\" y1=\"9.091011396611293\" x2=\"645.0387890890636\" y2=\"9.091011396611293\" stroke=\"rgb(233,233,233)\" stroke-opacity=\"1.0\" stroke-width=\"1.0\">\n        </line>\n        <g transform=\"translate(0.0 353.2127573579966 ) \">\n          <g transform=\"translate(-3.0 0.0 ) \">\n            <text class=\"axis-text-y\" text-anchor=\"end\" dy=\"0.35em\">\n            0\n            </text>\n          </g>\n        </g>\n        <g transform=\"translate(0.0 318.8005827618581 ) \">\n          <g transform=\"translate(-3.0 0.0 ) \">\n            <text class=\"axis-text-y\" text-anchor=\"end\" dy=\"0.35em\">\n            5\n            </text>\n          </g>\n        </g>\n        <g transform=\"translate(0.0 284.38840816571957 ) \">\n          <g transform=\"translate(-3.0 0.0 ) \">\n            <text class=\"axis-text-y\" text-anchor=\"end\" dy=\"0.35em\">\n            10\n            </text>\n          </g>\n        </g>\n        <g transform=\"translate(0.0 249.97623356958104 ) \">\n          <g transform=\"translate(-3.0 0.0 ) \">\n            <text class=\"axis-text-y\" text-anchor=\"end\" dy=\"0.35em\">\n            15\n            </text>\n          </g>\n        </g>\n        <g transform=\"translate(0.0 215.56405897344249 ) \">\n          <g transform=\"translate(-3.0 0.0 ) \">\n            <text class=\"axis-text-y\" text-anchor=\"end\" dy=\"0.35em\">\n            20\n            </text>\n          </g>\n        </g>\n        <g transform=\"translate(0.0 181.15188437730396 ) \">\n          <g transform=\"translate(-3.0 0.0 ) \">\n            <text class=\"axis-text-y\" text-anchor=\"end\" dy=\"0.35em\">\n            25\n            </text>\n          </g>\n        </g>\n        <g transform=\"translate(0.0 146.73970978116543 ) \">\n          <g transform=\"translate(-3.0 0.0 ) \">\n            <text class=\"axis-text-y\" text-anchor=\"end\" dy=\"0.35em\">\n            30\n            </text>\n          </g>\n        </g>\n        <g transform=\"translate(0.0 112.3275351850269 ) \">\n          <g transform=\"translate(-3.0 0.0 ) \">\n            <text class=\"axis-text-y\" text-anchor=\"end\" dy=\"0.35em\">\n            35\n            </text>\n          </g>\n        </g>\n        <g transform=\"translate(0.0 77.91536058888835 ) \">\n          <g transform=\"translate(-3.0 0.0 ) \">\n            <text class=\"axis-text-y\" text-anchor=\"end\" dy=\"0.35em\">\n            40\n            </text>\n          </g>\n        </g>\n        <g transform=\"translate(0.0 43.50318599274982 ) \">\n          <g transform=\"translate(-3.0 0.0 ) \">\n            <text class=\"axis-text-y\" text-anchor=\"end\" dy=\"0.35em\">\n            45\n            </text>\n          </g>\n        </g>\n        <g transform=\"translate(0.0 9.091011396611293 ) \">\n          <g transform=\"translate(-3.0 0.0 ) \">\n            <text class=\"axis-text-y\" text-anchor=\"end\" dy=\"0.35em\">\n            50\n            </text>\n          </g>\n        </g>\n      </g>\n      <g transform=\"translate(21.961210910936405 0.0 ) \" clip-path=\"url(#cNFtx40)\" clip-bounds-jfx=\"[rect (0.0, 0.0), (645.0387890890636, 370.0)]\">\n        <defs>\n          <clipPath id=\"cNFtx40\">\n            <rect x=\"0.0\" y=\"0.0\" width=\"645.0387890890636\" height=\"370.0\">\n            </rect>\n          </clipPath>\n        </defs>\n        <g>\n          <path d=\"M29.319944958593805 353.18181818181813 L29.319944958593805 353.18181818181813 L35.243166028618504 353.0888529722509 L41.1663870986432 352.93400941032667 L47.089608168667894 352.7171398150137 L53.012830341978514 352.4383180268278 L58.936050308717284 352.0974702052531 L64.8592724820279 351.6945963502896 L70.78249244876667 351.2295487809055 L76.70571682864914 350.70240133761655 L82.62893679538793 350.11308017990694 L88.5521567621267 349.4615114672607 L94.47537672886547 348.7476213591619 L100.39859669560424 347.97126217457867 L106.32182107548671 347.1325077540269 L112.24504545536918 346.2312104164748 L118.16826100896425 345.2672963214064 L124.09148538884672 344.2405439472738 L130.01470976872918 343.151027134593 L135.93792532232428 341.9985982023322 L141.86114970220675 340.7830356289434 L147.78436525580182 339.50426557391086 L153.7075896356843 338.1622880372345 L159.63081401556676 336.75673381633453 L165.55402956916183 335.287676751727 L171.4772539490443 333.75489532186407 L177.40046950263937 332.1581680051979 L183.32370270880924 330.4974209612126 L189.2469182624043 328.77250650887623 L195.17013381599938 326.9831292861251 L201.09336702216925 325.12921381154285 L207.01658257576432 323.21054184538247 L212.9397981293594 321.2269657066119 L218.86303133552926 319.17818675136687 L224.78624688912433 317.0641327800317 L230.7094624427194 314.88443623092707 L236.63269564888927 312.63901834083595 L242.55591120248434 310.32759031129603 L248.47912675607944 307.94992569805845 L254.4023423096745 305.50580462047566 L260.3255755158444 302.99500391609956 L266.24879106943945 300.41715602325087 L272.1720066230345 297.77218874231386 L278.0952398292044 295.0596557483923 L284.01845538279946 292.27934044263935 L289.94167093639453 289.4310918622225 L295.8649041425644 286.5144636822454 L301.78811969615947 283.52916710424563 L307.71133524975454 280.47505116539065 L313.6345684559244 277.3516695407842 L319.5577840095195 274.1588056315794 L325.48099956311455 270.89608531249553 L331.4042151167096 267.5631475854547 L337.3274306703047 264.15969052479176 L343.25068152904936 260.6854187684429 L349.17389708264443 257.13997131833014 L355.0971126362395 253.52296748557143 L361.0203281898346 249.83403970848735 L366.94354374342964 246.07282698900002 L372.8667592970247 242.23895520182865 L378.7900101557694 238.33205022169247 L384.71322570936445 234.35168541449943 L390.6364412629595 230.29753260017867 L396.5596568165546 226.1691848354423 L402.48287237014966 221.96611703217707 L408.40608792374474 217.68801413751493 L414.3293387824894 213.33437731774816 L420.2525543360845 208.90483901119748 L426.17576988967954 204.3989397657637 L432.0989854432746 199.8161676205363 L438.0222009968697 195.15616814103876 L443.9454165504648 190.41841623915775 L449.8686674092094 185.6023868267799 L455.7918829628045 180.70772546942877 L461.71509851639956 175.73382831577396 L467.63831406999464 170.68026216812194 L473.56152962358976 165.54650193835943 L479.48474517718483 160.33202253837305 L485.4079607307799 155.03633826165793 L491.3312115895245 149.6588190024781 L497.25442714311964 144.19905781754574 L503.1776426967147 138.65651649154458 L509.1008582503098 133.03045990111602 L515.0240738039048 127.32050735737786 L520.9472893574999 121.52602875459408 L526.8705402162445 115.64640711423152 L532.7937557698397 109.6810385849598 L538.7169713234347 103.62945058747692 L544.6401868770298 97.4909342528299 L550.5634024306248 91.26493823849972 L556.48661798422 84.95075367553329 L562.4098688429646 78.54782922141169 L568.3330843965597 72.05545600718187 L574.2562999501547 65.47310894473048 L580.1795155037498 58.80000040188753 L586.1027310573448 52.03544776410564 L592.02594661094 45.17892594327151 L597.9491974696846 38.22956854399803 L603.8724130232797 31.186876732577616 L609.7956285768747 24.049984113623225 L615.7188441304698 16.818181818181813 \" fill=\"none\" stroke-width=\"2.2\" stroke=\"rgb(110,85,150)\" stroke-opacity=\"1.0\">\n          </path>\n        </g>\n      </g>\n    </g>\n    <g transform=\"translate(44.9612109109364 15.2 ) \">\n      <text class=\"plot-title\" y=\"0.0\">\n      Power to add radian chart\n      </text>\n    </g>\n    <g transform=\"translate(14.5 219.0 ) rotate(-90.0 ) \">\n      <text class=\"axis-title-y\" y=\"0.0\" text-anchor=\"middle\">\n      prices\n      </text>\n    </g>\n    <g transform=\"translate(367.4806054554682 441.5 ) \">\n      <text class=\"axis-title-x\" y=\"0.0\" text-anchor=\"middle\">\n      power\n      </text>\n    </g>\n    <path fill=\"rgb(0,0,0)\" fill-opacity=\"0.0\" stroke=\"rgb(71,71,71)\" stroke-opacity=\"1.0\" stroke-width=\"0.0\" d=\"M0.0 0.0 L0.0 450.0 L700.0 450.0 L700.0 0.0 Z\">\n    </path>\n  </g>\n  <g id=\"d2wy8e8\">\n  </g>\n</svg>\n        <script>document.getElementById(\"695fe850-9d93-42ee-abbe-8ee984049365\").style.display = \"none\";</script>",
      "application/plot+json": {
       "output_type": "lets_plot_spec",
       "output": {
        "ggtitle": {
         "text": "Power to add radian chart"
        },
        "mapping": {},
        "data": {
         "power": [
          0.01,
          0.02,
          0.03,
          0.04,
          0.05,
          0.06,
          0.07,
          0.08,
          0.09,
          0.1,
          0.11,
          0.12,
          0.13,
          0.14,
          0.15,
          0.16,
          0.17,
          0.18,
          0.19,
          0.2,
          0.21,
          0.22,
          0.23,
          0.24,
          0.25,
          0.26,
          0.27,
          0.28,
          0.29,
          0.3,
          0.31,
          0.32,
          0.33,
          0.34,
          0.35,
          0.36,
          0.37,
          0.38,
          0.39,
          0.4,
          0.41,
          0.42,
          0.43,
          0.44,
          0.45,
          0.46,
          0.47,
          0.48,
          0.49,
          0.5,
          0.51,
          0.52,
          0.53,
          0.54,
          0.55,
          0.56,
          0.57,
          0.58,
          0.59,
          0.6,
          0.61,
          0.62,
          0.63,
          0.64,
          0.65,
          0.66,
          0.67,
          0.68,
          0.69,
          0.7,
          0.71,
          0.72,
          0.73,
          0.74,
          0.75,
          0.76,
          0.77,
          0.78,
          0.79,
          0.8,
          0.81,
          0.82,
          0.83,
          0.84,
          0.85,
          0.86,
          0.87,
          0.88,
          0.89,
          0.9,
          0.91,
          0.92,
          0.93,
          0.94,
          0.95,
          0.96,
          0.97,
          0.98,
          0.99,
          1.0
         ],
         "prices": [
          0.0044953823,
          0.018002987,
          0.040501356,
          0.07201195,
          0.11252403,
          0.16204834,
          0.22058487,
          0.28815508,
          0.36474824,
          0.45037508,
          0.5450463,
          0.6487727,
          0.7615757,
          0.88344455,
          1.0144007,
          1.154455,
          1.3036394,
          1.4619434,
          1.6293883,
          1.8060064,
          1.9918084,
          2.1867943,
          2.3910177,
          2.6044679,
          2.827177,
          3.0591774,
          3.3004797,
          3.5511053,
          3.8110971,
          4.0804663,
          4.3592443,
          4.647453,
          4.945135,
          5.2523017,
          5.569006,
          5.8952594,
          6.231104,
          6.5765724,
          6.931697,
          7.2965097,
          7.6710644,
          8.055371,
          8.449495,
          8.853468,
          9.267311,
          9.69109,
          10.1248455,
          10.568601,
          11.02242,
          11.486335,
          11.9604,
          12.444667,
          12.93918,
          13.443983,
          13.959127,
          14.484669,
          15.02066,
          15.567155,
          16.124207,
          16.69187,
          17.270206,
          17.859264,
          18.459103,
          19.069798,
          19.691395,
          20.323967,
          20.967567,
          21.622263,
          22.288128,
          22.965214,
          23.653597,
          24.353354,
          25.064535,
          25.78723,
          26.5215,
          27.267422,
          28.025072,
          28.794521,
          29.575861,
          30.36915,
          31.174467,
          31.991919,
          32.82156,
          33.663483,
          34.517776,
          35.38453,
          36.26381,
          37.15572,
          38.06034,
          38.977776,
          39.908104,
          40.85143,
          41.807827,
          42.777412,
          43.760284,
          44.75652,
          45.766243,
          46.789528,
          47.8265,
          48.877262
         ]
        },
        "ggsize": {
         "width": 700.0,
         "height": 450.0
        },
        "kind": "plot",
        "scales": [
         {
          "aesthetic": "x",
          "limits": [
           null,
           null
          ]
         },
         {
          "aesthetic": "y",
          "limits": [
           null,
           null
          ]
         }
        ],
        "layers": [
         {
          "mapping": {
           "x": "power",
           "y": "prices"
          },
          "stat": "identity",
          "size": 1.0,
          "color": "#6e5596",
          "linetype": "solid",
          "sampling": "none",
          "position": "identity",
          "geom": "line"
         }
        ]
       },
       "apply_color_scheme": true,
       "swing_enabled": true
      }
     },
     "execution_count": 49,
     "metadata": {},
     "output_type": "execute_result"
    }
   ],
   "source": [
    "val data = mapOf(\n",
    "    \"power\" to power,\n",
    "    \"prices\" to prices,\n",
    ")\n",
    "\n",
    "plot(data) {\n",
    "    x(\"power\")\n",
    "    y(\"prices\")   \n",
    "\n",
    "    line {\n",
    "        width = 1.0\n",
    "        color = Color.hex(\"#6e5596\")\n",
    "        type = LineType.SOLID\n",
    "    }\n",
    "\n",
    "    layout {\n",
    "        title = \"Power to add radian chart\"\n",
    "        size = 700 to 450\n",
    "    }\n",
    "}"
   ],
   "metadata": {
    "collapsed": false,
    "ExecuteTime": {
     "end_time": "2024-01-02T18:01:26.364789400Z",
     "start_time": "2024-01-02T18:01:26.229554800Z"
    }
   }
  },
  {
   "cell_type": "code",
   "execution_count": 50,
   "outputs": [],
   "source": [],
   "metadata": {
    "collapsed": false,
    "ExecuteTime": {
     "end_time": "2024-01-02T18:01:26.366789700Z",
     "start_time": "2024-01-02T18:01:26.361789Z"
    }
   }
  }
 ],
 "metadata": {
  "kernelspec": {
   "display_name": "Kotlin",
   "language": "kotlin",
   "name": "kotlin"
  },
  "language_info": {
   "name": "kotlin",
   "version": "1.9.0",
   "mimetype": "text/x-kotlin",
   "file_extension": ".kt",
   "pygments_lexer": "kotlin",
   "codemirror_mode": "text/x-kotlin",
   "nbconvert_exporter": ""
  }
 },
 "nbformat": 4,
 "nbformat_minor": 0
}
